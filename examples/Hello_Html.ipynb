{
 "cells": [
  {
   "cell_type": "markdown",
   "metadata": {},
   "source": [
    "# Example of HTML output"
   ]
  },
  {
   "cell_type": "code",
   "execution_count": 1,
   "metadata": {},
   "outputs": [
    {
     "name": "stderr",
     "output_type": "stream",
     "text": [
      "gcc-7 -c -gnatc main.adb\n",
      "gcc-7 -c main.adb\n",
      "gnatbind-7 -x main.ali\n",
      "gnatlink-7 main.ali\n"
     ]
    },
    {
     "data": {
      "text/html": [
       "<p/><i>This is the list of Ada standards:</i>\n",
       "<table>\n",
       "<tr><th>#</th><th>Value</th></tr>\n",
       "<tr><td> 1</td><td> 1983</td></tr>\n",
       "<tr><td> 2</td><td> 1995</td></tr>\n",
       "<tr><td> 3</td><td> 2005</td></tr>\n",
       "<tr><td> 4</td><td> 2012</td></tr>\n",
       "</table>\n",
       "<p/><i>This is Ada:</i>\n",
       "<br/><img height='100' width='100' src='https://upload.wikimedia.org/wikipedia/commons/a/a4/Ada_Lovelace_portrait.jpg'>\n",
       "<p/><i>This is a red circle:</i>\n",
       "<br/><svg height='100' width='100'><circle cx='50' cy='50' r='40' stroke='black' stroke-width='3' fill='red'/></svg>\n"
      ]
     },
     "metadata": {},
     "output_type": "display_data"
    }
   ],
   "source": [
    "--% run_file: main.adb\n",
    "--% output: text/html\n",
    "\n",
    "with Ada.Text_IO;\n",
    "\n",
    "procedure Main is\n",
    "\n",
    "   generic\n",
    "       type T is private;\n",
    "       type Array_T is array (Integer range <>) of T;\n",
    "       with function Image(Element: T) return String;\n",
    "   procedure Print_Html_Array(Arr: Array_T);\n",
    "\n",
    "   procedure Print_Html_Array(Arr: Array_T) is\n",
    "   begin\n",
    "          Ada.Text_IO.Put_Line(\"<table>\");\n",
    "          Ada.Text_IO.Put_Line(\"<tr><th>#</th><th>Value</th></tr>\");\n",
    "          for I in Arr'Range loop\n",
    "             Ada.Text_IO.Put_Line(\"<tr><td>\"  & Integer'Image(I) & \n",
    "                                  \"</td><td>\" & Image(Arr(I))    & \"</td></tr>\");\n",
    "          end loop;\n",
    "          Ada.Text_IO.Put_Line(\"</table>\");\n",
    "\n",
    "   end;\n",
    "\n",
    "   procedure Hello_World_Html is\n",
    "       I1 : constant String := \"<img height='100' width='100' src='https://upload.wikimedia.org/wikipedia/commons/a/a4/Ada_Lovelace_portrait.jpg'>\";\n",
    "       I2 : constant String := \"<svg height='100' width='100'>\" &\n",
    "            \"<circle cx='50' cy='50' r='40' stroke='black' stroke-width='3' fill='red'/></svg>\";\n",
    "\n",
    "       procedure Print_Ada_Standards is\n",
    "          type A is array (Integer range <>) of Integer;\n",
    "          Stds : A(1 .. 4) := (1983, 1995, 2005, 2012);\n",
    "          \n",
    "          procedure Print is new Print_Html_Array(T       => Integer, \n",
    "                                                  Array_T => A, \n",
    "                                                  Image   => Integer'Image);\n",
    "       begin\n",
    "          Print(Stds);\n",
    "       end Print_Ada_Standards;\n",
    "   begin\n",
    "      Ada.Text_IO.Put_Line(\"<p/><i>This is the list of Ada standards:</i>\");\n",
    "      Print_Ada_Standards;\n",
    "      Ada.Text_IO.Put_Line(\"<p/><i>This is Ada:</i>\");\n",
    "      Ada.Text_IO.Put_Line(\"<br/>\" & I1);\n",
    "      Ada.Text_IO.Put_Line(\"<p/><i>This is a red circle:</i>\");\n",
    "      Ada.Text_IO.Put_Line(\"<br/>\" & I2);\n",
    "   end Hello_World_Html;\n",
    "\n",
    "begin\n",
    "   Hello_World_Html;\n",
    "end Main;"
   ]
  },
  {
   "cell_type": "markdown",
   "metadata": {},
   "source": [
    "# Example of Markdown output"
   ]
  },
  {
   "cell_type": "code",
   "execution_count": 2,
   "metadata": {
    "scrolled": true
   },
   "outputs": [
    {
     "name": "stderr",
     "output_type": "stream",
     "text": [
      "gcc-7 -c -gnatc main.adb\n",
      "gcc-7 -c main.adb\n",
      "gnatbind-7 -x main.ali\n",
      "gnatlink-7 main.ali\n"
     ]
    },
    {
     "data": {
      "text/markdown": [
       "# Chapter 1\n",
       "Once upon a time...\n"
      ]
     },
     "metadata": {},
     "output_type": "display_data"
    }
   ],
   "source": [
    "--% run_file: main.adb\n",
    "--% output: text/markdown\n",
    "\n",
    "with Ada.Text_IO;\n",
    "\n",
    "procedure Main is\n",
    "\n",
    "   procedure Hello_World_Markdown is\n",
    "   begin\n",
    "      Ada.Text_IO.Put_Line(\"# Chapter 1\");\n",
    "      Ada.Text_IO.Put_Line(\"Once upon a time...\");\n",
    "   end Hello_World_Markdown;\n",
    "\n",
    "begin\n",
    "   Hello_World_Markdown;\n",
    "end Main;"
   ]
  },
  {
   "cell_type": "markdown",
   "metadata": {},
   "source": [
    "# Example of HTML output using internal JSON representation"
   ]
  },
  {
   "cell_type": "code",
   "execution_count": 3,
   "metadata": {},
   "outputs": [
    {
     "name": "stderr",
     "output_type": "stream",
     "text": [
      "gcc-7 -c -gnatc main.adb\n",
      "gcc-7 -c main.adb\n",
      "gnatbind-7 -x main.ali\n",
      "gnatlink-7 main.ali\n"
     ]
    },
    {
     "data": {
      "text/html": [
       "<b>Hello World</b>"
      ]
     },
     "metadata": {},
     "output_type": "display_data"
    }
   ],
   "source": [
    "--% filename: main.adb\n",
    "--% run: Main\n",
    "--% output: json\n",
    "\n",
    "with Ada.Text_IO;\n",
    "with Ada.Characters.Latin_1;\n",
    "\n",
    "procedure Main is\n",
    "\n",
    "   function Get_Notebook_Json (Content : String; Format : String) return String is\n",
    "      Q : constant Character := Ada.Characters.Latin_1.Quotation;\n",
    "   begin\n",
    "       return \"{ \" & Q & \"data\" & Q & \": { \" & Q & Format & Q & \": \" & Q & Content & Q & \" }, \" \n",
    "              & Q & \"metadata\" & Q & \": {} }\";\n",
    "   end Get_Notebook_Json;\n",
    "       \n",
    "   procedure Hello_World_Json is\n",
    "   begin\n",
    "      Ada.Text_IO.Put_Line(Get_Notebook_Json(\"<b>Hello World</b>\", \"text/html\"));\n",
    "   end Hello_World_Json;\n",
    "\n",
    "begin\n",
    "    Hello_World_Json;\n",
    "end Main;"
   ]
  }
 ],
 "metadata": {
  "kernelspec": {
   "display_name": "Ada",
   "language": "ada",
   "name": "ada"
  },
  "language_info": {
   "file_extension": ".ada",
   "mimetype": "text/x-ada",
   "name": "ada"
  }
 },
 "nbformat": 4,
 "nbformat_minor": 2
}
