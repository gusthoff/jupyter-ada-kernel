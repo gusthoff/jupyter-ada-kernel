{
 "cells": [
  {
   "cell_type": "code",
   "execution_count": 1,
   "metadata": {},
   "outputs": [
    {
     "name": "stderr",
     "output_type": "stream",
     "text": [
      "gcc-7 -c -gnatc pkg.ads\n"
     ]
    }
   ],
   "source": [
    "--% src_file: pkg.ads\n",
    "\n",
    "package Pkg is\n",
    "   procedure Hello_World;\n",
    "end Pkg;"
   ]
  },
  {
   "cell_type": "code",
   "execution_count": 2,
   "metadata": {},
   "outputs": [
    {
     "name": "stderr",
     "output_type": "stream",
     "text": [
      "gcc-7 -c -gnatc pkg.adb\n"
     ]
    }
   ],
   "source": [
    "--% src_file: pkg.adb\n",
    "\n",
    "with Ada.Text_IO;\n",
    "\n",
    "package body Pkg is\n",
    "   procedure Hello_World is\n",
    "   begin\n",
    "      Ada.Text_IO.Put_Line(\"Hello World\");\n",
    "   end Hello_World;\n",
    "end Pkg;"
   ]
  },
  {
   "cell_type": "code",
   "execution_count": 3,
   "metadata": {},
   "outputs": [
    {
     "name": "stderr",
     "output_type": "stream",
     "text": [
      "gcc-7 -c -gnatc main.adb\n"
     ]
    }
   ],
   "source": [
    "--% src_file: main.adb\n",
    "\n",
    "with Pkg;\n",
    "\n",
    "procedure Main is\n",
    "begin\n",
    "    Pkg.Hello_World;\n",
    "end Main;"
   ]
  },
  {
   "cell_type": "code",
   "execution_count": 4,
   "metadata": {},
   "outputs": [
    {
     "name": "stderr",
     "output_type": "stream",
     "text": [
      "gcc-7 -c main.adb\n",
      "gcc-7 -c pkg.adb\n",
      "gnatbind-7 -x main.ali\n",
      "gnatlink-7 main.ali\n"
     ]
    },
    {
     "name": "stdout",
     "output_type": "stream",
     "text": [
      "Hello World\n"
     ]
    }
   ],
   "source": [
    "--% run: Main"
   ]
  }
 ],
 "metadata": {
  "kernelspec": {
   "display_name": "Ada",
   "language": "ada",
   "name": "ada"
  },
  "language_info": {
   "file_extension": ".ada",
   "mimetype": "text/x-ada",
   "name": "ada"
  }
 },
 "nbformat": 4,
 "nbformat_minor": 2
}
